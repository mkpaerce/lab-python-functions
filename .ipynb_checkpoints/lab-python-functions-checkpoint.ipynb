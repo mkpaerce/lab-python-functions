{
 "cells": [
  {
   "cell_type": "markdown",
   "id": "25d7736c-ba17-4aff-b6bb-66eba20fbf4e",
   "metadata": {},
   "source": [
    "# Lab | Functions"
   ]
  },
  {
   "cell_type": "markdown",
   "id": "0c581062-8967-4d93-b06e-62833222f930",
   "metadata": {
    "tags": []
   },
   "source": [
    "## Exercise: Managing Customer Orders with Functions\n",
    "\n",
    "In the previous exercise, you improved the code for managing customer orders by using loops and flow control. Now, let's take it a step further and refactor the code by introducing functions.\n",
    "\n",
    "Follow the steps below to complete the exercise:\n",
    "\n",
    "1. Define a function named `initialize_inventory` that takes `products` as a parameter. Inside the function, implement the code for initializing the inventory dictionary using a loop and user input.\n",
    "\n",
    "2. Define a function named `get_customer_orders` that takes no parameters. Inside the function, implement the code for prompting the user to enter the product names using a loop. The function should return the `customer_orders` set.\n",
    "\n",
    "3. Define a function named `update_inventory` that takes `customer_orders` and `inventory` as parameters. Inside the function, implement the code for updating the inventory dictionary based on the customer orders.\n",
    "\n",
    "4. Define a function named `calculate_order_statistics` that takes `customer_orders` and `products` as parameters. Inside the function, implement the code for calculating the order statistics (total products ordered, and percentage of unique products ordered). The function should return these values.\n",
    "\n",
    "5. Define a function named `print_order_statistics` that takes `order_statistics` as a parameter. Inside the function, implement the code for printing the order statistics.\n",
    "\n",
    "6. Define a function named `print_updated_inventory` that takes `inventory` as a parameter. Inside the function, implement the code for printing the updated inventory.\n",
    "\n",
    "7. Call the functions in the appropriate sequence to execute the program and manage customer orders.\n",
    "\n",
    "Hints for functions:\n",
    "\n",
    "- Consider the input parameters required for each function and their return values.\n",
    "- Utilize function parameters and return values to transfer data between functions.\n",
    "- Test your functions individually to ensure they work correctly.\n",
    "\n",
    "\n"
   ]
  },
  {
   "cell_type": "code",
   "execution_count": 7,
   "id": "c6275b1b-ee3d-44b2-877b-1f71c13368fe",
   "metadata": {},
   "outputs": [],
   "source": [
    "\n",
    "#1\n",
    "products = [\"t-shirt\", \"mug\", \"hat\", \"book\", \"keychain\"]\n",
    "\n",
    "def initialize_inventory(products):\n",
    "    inventory = {}\n",
    "    ask = input(\"Would you like to update inventory? (y/n): \" )\n",
    "    while ask == 'y':\n",
    "        print(\"Please enter one of the following: 'hat', 'mug', 't-shirt', 'keychain':\")\n",
    "        product = input(\"Enter an item: \").lower()\n",
    "        amount = int(input(\"Enter quantity: \"))\n",
    "        if product in inventory:\n",
    "            inventory[product] += amount\n",
    "        else:\n",
    "                inventory[product] = amount\n",
    "        ask = input(\"Would you like to update inventory of another item? (y/n): \" )  \n",
    "        if ask == \"n\":\n",
    "            break\n",
    "    return inventory"
   ]
  },
  {
   "cell_type": "code",
   "execution_count": 8,
   "id": "52a4f817-ef68-428a-b820-3326eabea507",
   "metadata": {},
   "outputs": [],
   "source": [
    "#2 Define a function named get_customer_orders that takes no parameters. \n",
    "#Inside the function, implement the code for prompting the user to enter the product names using a loop. \n",
    "#The function should return the customer_orders set.\n",
    "\n",
    "def get_customer_orders():\n",
    "    ask_customer = input(\"Would you like to place an order? (y/n): \" )\n",
    "    customer_orders = set()\n",
    "    while ask_customer == 'y':\n",
    "        print(\"Please enter one of the following: 'hat', 'mug', 't-shirt', 'keychain':\")\n",
    "        order = input(\"Enter an item: \").lower()\n",
    "        customer_orders.add(order)\n",
    "        ask_customer = input(\"Would you like to place an order? (y/n): \" )\n",
    "    print(f\"Total customer order: {customer_orders}\")\n",
    "    return customer_orders\n",
    "    "
   ]
  },
  {
   "cell_type": "code",
   "execution_count": 9,
   "id": "3c1ffcfd-46e2-40cf-8b6d-71fa4d4cb21a",
   "metadata": {},
   "outputs": [],
   "source": [
    "#3. Define a function named update_inventory that takes customer_orders and inventory as parameters. \n",
    "#Inside the function, implement the code for updating the inventory dictionary based on the customer orders."
   ]
  },
  {
   "cell_type": "code",
   "execution_count": 10,
   "id": "88af9eaf-fb0d-4992-901c-2454294247cc",
   "metadata": {},
   "outputs": [],
   "source": [
    "def update_inventory(customer_orders, inventory):\n",
    "    for order in customer_orders:\n",
    "        if order in inventory:\n",
    "            inventory[order] -= 1  \n",
    "    return inventory\n",
    "\n",
    "\n"
   ]
  },
  {
   "cell_type": "code",
   "execution_count": 11,
   "id": "d5626cf4-ee16-4746-9c8a-3d334bbf4cf8",
   "metadata": {},
   "outputs": [],
   "source": [
    "#4. Define a function named calculate_order_statistics that takes customer_orders and products as parameters. \n",
    "#Inside the function, implement the code for calculating the order statistics (total products ordered, and percentage of unique products ordered). \n",
    "#The function should return these values.\n",
    "\n",
    "def calculate_order_statistics(customer_orders, products):\n",
    "    total_products_ordered = len(customer_orders)\n",
    "    unique_products_ordered = len(customer_orders)\n",
    "    total_unique_products = len(products)  \n",
    "    percentage_unique = (unique_products_ordered / total_unique_products) * 100\n",
    "    \n",
    "    return total_products_ordered, percentage_unique"
   ]
  },
  {
   "cell_type": "code",
   "execution_count": 15,
   "id": "f9c226cf-90f5-42b7-a011-51e4fd96d569",
   "metadata": {},
   "outputs": [],
   "source": [
    "#5.\n",
    "\n",
    "def print_order_statistics(order_statistics):\n",
    "    total_products_ordered, percentage_unique = order_statistics\n",
    "    \n",
    "    print(f\"Total products ordered: {total_products_ordered}\")\n",
    "    print(f\"Percentage of unique products ordered: {percentage_unique:.2f}%\")"
   ]
  },
  {
   "cell_type": "code",
   "execution_count": 17,
   "id": "05fcb5af-df22-4421-ae70-6f28fc205680",
   "metadata": {},
   "outputs": [],
   "source": [
    "#6. Define a function named `print_updated_inventory` that takes `inventory` as a parameter. \n",
    "#Inside the function, implement the code for printing the updated inventory.\n",
    "\n",
    "def print_updated_inventory(inventory):\n",
    "    print(f\"Updated inventory: {inventory}\")\n"
   ]
  },
  {
   "cell_type": "code",
   "execution_count": 19,
   "id": "6490655d-927e-445c-8bbe-cdbbf7f05fa1",
   "metadata": {},
   "outputs": [
    {
     "name": "stdin",
     "output_type": "stream",
     "text": [
      "Would you like to update inventory? (y/n):  y\n"
     ]
    },
    {
     "name": "stdout",
     "output_type": "stream",
     "text": [
      "Please enter one of the following: 'hat', 'mug', 't-shirt', 'keychain':\n"
     ]
    },
    {
     "name": "stdin",
     "output_type": "stream",
     "text": [
      "Enter an item:  hat\n",
      "Enter quantity:  10\n",
      "Would you like to update inventory of another item? (y/n):  y\n"
     ]
    },
    {
     "name": "stdout",
     "output_type": "stream",
     "text": [
      "Please enter one of the following: 'hat', 'mug', 't-shirt', 'keychain':\n"
     ]
    },
    {
     "name": "stdin",
     "output_type": "stream",
     "text": [
      "Enter an item:  mug\n",
      "Enter quantity:  20\n",
      "Would you like to update inventory of another item? (y/n):  y\n"
     ]
    },
    {
     "name": "stdout",
     "output_type": "stream",
     "text": [
      "Please enter one of the following: 'hat', 'mug', 't-shirt', 'keychain':\n"
     ]
    },
    {
     "name": "stdin",
     "output_type": "stream",
     "text": [
      "Enter an item:  t-shirt\n",
      "Enter quantity:  30\n",
      "Would you like to update inventory of another item? (y/n):  y\n"
     ]
    },
    {
     "name": "stdout",
     "output_type": "stream",
     "text": [
      "Please enter one of the following: 'hat', 'mug', 't-shirt', 'keychain':\n"
     ]
    },
    {
     "name": "stdin",
     "output_type": "stream",
     "text": [
      "Enter an item:  keychain\n",
      "Enter quantity:  40\n",
      "Would you like to update inventory of another item? (y/n):  n\n",
      "Would you like to place an order? (y/n):  y\n"
     ]
    },
    {
     "name": "stdout",
     "output_type": "stream",
     "text": [
      "Please enter one of the following: 'hat', 'mug', 't-shirt', 'keychain':\n"
     ]
    },
    {
     "name": "stdin",
     "output_type": "stream",
     "text": [
      "Enter an item:  hat\n",
      "Would you like to place an order? (y/n):  y\n"
     ]
    },
    {
     "name": "stdout",
     "output_type": "stream",
     "text": [
      "Please enter one of the following: 'hat', 'mug', 't-shirt', 'keychain':\n"
     ]
    },
    {
     "name": "stdin",
     "output_type": "stream",
     "text": [
      "Enter an item:  mug\n",
      "Would you like to place an order? (y/n):  y\n"
     ]
    },
    {
     "name": "stdout",
     "output_type": "stream",
     "text": [
      "Please enter one of the following: 'hat', 'mug', 't-shirt', 'keychain':\n"
     ]
    },
    {
     "name": "stdin",
     "output_type": "stream",
     "text": [
      "Enter an item:  t-shirt\n",
      "Would you like to place an order? (y/n):  y\n"
     ]
    },
    {
     "name": "stdout",
     "output_type": "stream",
     "text": [
      "Please enter one of the following: 'hat', 'mug', 't-shirt', 'keychain':\n"
     ]
    },
    {
     "name": "stdin",
     "output_type": "stream",
     "text": [
      "Enter an item:  ketchain\n",
      "Would you like to place an order? (y/n):  n\n"
     ]
    },
    {
     "name": "stdout",
     "output_type": "stream",
     "text": [
      "Total customer order: {'mug', 't-shirt', 'ketchain', 'hat'}\n",
      "Total products ordered: 4\n",
      "Percentage of unique products ordered: 80.00%\n",
      "Updated inventory: {'hat': 9, 'mug': 19, 't-shirt': 29, 'keychain': 40}\n"
     ]
    }
   ],
   "source": [
    "#7.\n",
    "\n",
    "products = [\"t-shirt\", \"mug\", \"hat\", \"book\", \"keychain\"]\n",
    "inventory = initialize_inventory(products)\n",
    "customer_orders = get_customer_orders()\n",
    "updated_inventory = update_inventory(customer_orders, inventory)\n",
    "order_statistics = calculate_order_statistics(customer_orders, products)\n",
    "print_order_statistics(order_statistics)\n",
    "print_updated_inventory(inventory)"
   ]
  },
  {
   "cell_type": "code",
   "execution_count": null,
   "id": "a995cd85-c953-49e0-bc78-c6308eddfed9",
   "metadata": {},
   "outputs": [],
   "source": []
  }
 ],
 "metadata": {
  "kernelspec": {
   "display_name": "Python [conda env:base] *",
   "language": "python",
   "name": "conda-base-py"
  },
  "language_info": {
   "codemirror_mode": {
    "name": "ipython",
    "version": 3
   },
   "file_extension": ".py",
   "mimetype": "text/x-python",
   "name": "python",
   "nbconvert_exporter": "python",
   "pygments_lexer": "ipython3",
   "version": "3.12.7"
  }
 },
 "nbformat": 4,
 "nbformat_minor": 5
}
